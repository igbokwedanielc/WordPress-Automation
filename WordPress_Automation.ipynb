{
 "cells": [
  {
   "cell_type": "code",
   "execution_count": null,
   "id": "b6d1bff6",
   "metadata": {},
   "outputs": [],
   "source": [
    "import requests\n",
    "from dotenv import load_dotenv\n",
    "load_dotenv()\n",
    "import os"
   ]
  },
  {
   "cell_type": "code",
   "execution_count": 3,
   "id": "da6538d0",
   "metadata": {},
   "outputs": [],
   "source": [
    "SITE_ID = \"igbokwedanielc6e47129503-ocuyp.wordpress.com\"\n",
    "TOKEN =os.getenv(\"TOKEN\")"
   ]
  },
  {
   "cell_type": "code",
   "execution_count": 4,
   "id": "8e271750",
   "metadata": {},
   "outputs": [
    {
     "name": "stdout",
     "output_type": "stream",
     "text": [
      "Page: {'ID': 31, 'site_ID': 247554546, 'author': {'ID': 270255449, 'login': 'igbokwedanielc6e47129503', 'email': False, 'name': 'Igbokwe Daniel', 'first_name': 'Igbokwe', 'last_name': 'Daniel', 'nice_name': 'igbokwedanielc6e47129503', 'URL': 'http://danielintelliversesamplewebtesting.wordpress.com', 'avatar_URL': 'https://2.gravatar.com/avatar/e7e5d132d9b38a8033552d05fb0683ab835ed744ac18f6e924842665575c55e8?s=96&d=identicon&r=G', 'profile_URL': 'https://gravatar.com/igbokwedanielc6e47129503', 'site_ID': 247554527}, 'date': '2025-08-20T08:44:23+01:00', 'modified': '2025-08-20T08:44:23+01:00', 'title': '🍵 DAN&#8217;s Automation Page Again 🍵', 'URL': 'https://igbokwedanielc6e47129503-ocuyp.wordpress.com/2025/08/20/%f0%9f%8d%b5-dans-automation-page-again-%f0%9f%8d%b5/', 'short_URL': 'https://wp.me/pgKIfg-v', 'content': '<p>This page was created automatically by Danilo as a Task.</p>\\n', 'excerpt': '<p>This page was created automatically by Danilo as a Task.</p>\\n', 'slug': '%f0%9f%8d%b5-dans-automation-page-again-%f0%9f%8d%b5', 'guid': 'https://igbokwedanielc6e47129503-ocuyp.wordpress.com/2025/08/20/%f0%9f%8d%b5-dans-automation-page-again-%f0%9f%8d%b5/', 'status': 'publish', 'sticky': False, 'password': '', 'parent': False, 'type': 'post', 'discussion': {'comments_open': True, 'comment_status': 'open', 'pings_open': True, 'ping_status': 'open', 'comment_count': 0}, 'likes_enabled': True, 'sharing_enabled': True, 'like_count': 0, 'i_like': False, 'is_reblogged': False, 'is_following': True, 'global_ID': '7af599a91707cc5a6e68875a6291ee86', 'featured_image': '', 'post_thumbnail': None, 'format': 'standard', 'geo': False, 'menu_order': 0, 'page_template': '', 'publicize_URLs': [], 'terms': {'category': {'Uncategorized': {'ID': 1, 'name': 'Uncategorized', 'slug': 'uncategorized', 'description': '', 'post_count': 5, 'parent': 0, 'meta': {'links': {'self': 'https://public-api.wordpress.com/rest/v1.1/sites/247554546/categories/slug:uncategorized', 'help': 'https://public-api.wordpress.com/rest/v1.1/sites/247554546/categories/slug:uncategorized/help', 'site': 'https://public-api.wordpress.com/rest/v1.1/sites/247554546'}}}}, 'post_tag': {}, 'post_format': {}, 'mentions': {}}, 'tags': {}, 'categories': {'Uncategorized': {'ID': 1, 'name': 'Uncategorized', 'slug': 'uncategorized', 'description': '', 'post_count': 5, 'parent': 0, 'meta': {'links': {'self': 'https://public-api.wordpress.com/rest/v1.1/sites/247554546/categories/slug:uncategorized', 'help': 'https://public-api.wordpress.com/rest/v1.1/sites/247554546/categories/slug:uncategorized/help', 'site': 'https://public-api.wordpress.com/rest/v1.1/sites/247554546'}}}}, 'attachments': {}, 'attachment_count': 0, 'metadata': [{'id': '155', 'key': 'firehose_sent', 'value': '1755675865'}, {'id': '154', 'key': 'jabber_published', 'value': '1755675865'}], 'meta': {'links': {'self': 'https://public-api.wordpress.com/rest/v1.1/sites/247554546/posts/31', 'help': 'https://public-api.wordpress.com/rest/v1.1/sites/247554546/posts/31/help', 'site': 'https://public-api.wordpress.com/rest/v1.1/sites/247554546', 'replies': 'https://public-api.wordpress.com/rest/v1.1/sites/247554546/posts/31/replies/', 'likes': 'https://public-api.wordpress.com/rest/v1.1/sites/247554546/posts/31/likes/'}}, 'capabilities': {'publish_post': True, 'delete_post': True, 'edit_post': True}, 'other_URLs': {'permalink_URL': 'https://igbokwedanielc6e47129503-ocuyp.wordpress.com/2025/08/20/%postname%/', 'suggested_slug': '🍵-dans-automation-page-again-🍵'}}\n"
     ]
    }
   ],
   "source": [
    "# 1a. Create a new page (acts like a directory)\n",
    "page_data = {\n",
    "    \"title\": \"🍵 DAN's Automation Page Again 🍵\",\n",
    "    \"content\": \"This page was created automatically by Danilo as a Task.\",\n",
    "    \"status\": \"publish\"\n",
    "}\n",
    "\n",
    "page_response = requests.post(\n",
    "    f\"https://public-api.wordpress.com/rest/v1.1/sites/{SITE_ID}/posts/new\",\n",
    "    headers={\"Authorization\": f\"Bearer {TOKEN}\"},\n",
    "    data=page_data\n",
    ")\n",
    "\n",
    "print(\"Page:\", page_response.json())"
   ]
  },
  {
   "cell_type": "code",
   "execution_count": null,
   "id": "cdb64e35",
   "metadata": {},
   "outputs": [],
   "source": [
    "# 1b. Create a new post (acts like a directory as well)\n",
    "\n",
    "# WordPress.com REST API endpoint for posts\n",
    "url = f\"https://public-api.wordpress.com/wp/v2/sites/{SITE_ID}/posts\"\n",
    "\n",
    "headers = {\n",
    "    \"Authorization\": f\"Bearer {TOKEN}\",\n",
    "}\n",
    "\n",
    "data = {\n",
    "    \"title\": \"🚀 DANIEL Next Automation Post 🚀\",\n",
    "    \"content\": \"This post was done by Daniel Igbokwe for Testing for IntelliVerse.\",\n",
    "    \"status\": \"publish\" \n",
    "}\n",
    "\n",
    "response = requests.post(url, headers=headers, json=data)\n",
    "\n",
    "print(\"Status:\", response.status_code)\n",
    "print(\"Response:\", response.json())\n"
   ]
  },
  {
   "cell_type": "code",
   "execution_count": null,
   "id": "d75c4d29",
   "metadata": {},
   "outputs": [],
   "source": [
    "# 2a. Upload a PDF file to the media library\n",
    "file_path = \"daniel_automation.pdf\"\n",
    "with open(file_path, \"rb\") as f:\n",
    "    media_response = requests.post(\n",
    "        f\"https://public-api.wordpress.com/rest/v1.1/sites/{SITE_ID}/media/new\",\n",
    "        headers={\"Authorization\": f\"Bearer {TOKEN}\"},\n",
    "        files={\"media[]\": f}\n",
    "    )\n",
    "\n",
    "print(\"Media:\", media_response.json())"
   ]
  },
  {
   "cell_type": "code",
   "execution_count": null,
   "id": "10e09c52",
   "metadata": {},
   "outputs": [],
   "source": [
    "# 2b. Upload a Picture or Image file to the media library\n",
    "file_path = \"dan_automation.jpg\"\n",
    "with open(file_path, \"rb\") as f:\n",
    "    media_response = requests.post(\n",
    "        f\"https://public-api.wordpress.com/rest/v1.1/sites/{SITE_ID}/media/new\",\n",
    "        headers={\"Authorization\": f\"Bearer {TOKEN}\"},\n",
    "        files={\"media[]\": f}\n",
    "    )\n",
    "\n",
    "print(\"Media:\", media_response.json())"
   ]
  },
  {
   "cell_type": "code",
   "execution_count": null,
   "id": "1388da55",
   "metadata": {},
   "outputs": [],
   "source": []
  }
 ],
 "metadata": {
  "kernelspec": {
   "display_name": "venv",
   "language": "python",
   "name": "python3"
  },
  "language_info": {
   "codemirror_mode": {
    "name": "ipython",
    "version": 3
   },
   "file_extension": ".py",
   "mimetype": "text/x-python",
   "name": "python",
   "nbconvert_exporter": "python",
   "pygments_lexer": "ipython3",
   "version": "3.12.4"
  }
 },
 "nbformat": 4,
 "nbformat_minor": 5
}
